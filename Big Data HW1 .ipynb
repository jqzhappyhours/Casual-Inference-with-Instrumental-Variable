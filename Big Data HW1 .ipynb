{
 "cells": [
  {
   "cell_type": "markdown",
   "metadata": {},
   "source": [
    "# Exercise 2"
   ]
  },
  {
   "cell_type": "code",
   "execution_count": 1,
   "metadata": {},
   "outputs": [],
   "source": [
    "import pandas as pd\n",
    "import numpy as np"
   ]
  },
  {
   "cell_type": "code",
   "execution_count": 2,
   "metadata": {},
   "outputs": [
    {
     "data": {
      "text/html": [
       "<div>\n",
       "<style scoped>\n",
       "    .dataframe tbody tr th:only-of-type {\n",
       "        vertical-align: middle;\n",
       "    }\n",
       "\n",
       "    .dataframe tbody tr th {\n",
       "        vertical-align: top;\n",
       "    }\n",
       "\n",
       "    .dataframe thead th {\n",
       "        text-align: right;\n",
       "    }\n",
       "</style>\n",
       "<table border=\"1\" class=\"dataframe\">\n",
       "  <thead>\n",
       "    <tr style=\"text-align: right;\">\n",
       "      <th></th>\n",
       "      <th>instrument</th>\n",
       "      <th>treatment</th>\n",
       "      <th>outcome</th>\n",
       "    </tr>\n",
       "  </thead>\n",
       "  <tbody>\n",
       "    <tr>\n",
       "      <th>0</th>\n",
       "      <td>0</td>\n",
       "      <td>0</td>\n",
       "      <td>0</td>\n",
       "    </tr>\n",
       "    <tr>\n",
       "      <th>1</th>\n",
       "      <td>0</td>\n",
       "      <td>0</td>\n",
       "      <td>0</td>\n",
       "    </tr>\n",
       "    <tr>\n",
       "      <th>2</th>\n",
       "      <td>0</td>\n",
       "      <td>0</td>\n",
       "      <td>0</td>\n",
       "    </tr>\n",
       "    <tr>\n",
       "      <th>3</th>\n",
       "      <td>0</td>\n",
       "      <td>0</td>\n",
       "      <td>0</td>\n",
       "    </tr>\n",
       "    <tr>\n",
       "      <th>4</th>\n",
       "      <td>0</td>\n",
       "      <td>0</td>\n",
       "      <td>0</td>\n",
       "    </tr>\n",
       "  </tbody>\n",
       "</table>\n",
       "</div>"
      ],
      "text/plain": [
       "   instrument  treatment  outcome\n",
       "0           0          0        0\n",
       "1           0          0        0\n",
       "2           0          0        0\n",
       "3           0          0        0\n",
       "4           0          0        0"
      ]
     },
     "execution_count": 2,
     "metadata": {},
     "output_type": "execute_result"
    }
   ],
   "source": [
    "df = pd.read_csv(\"sommer_deger.csv\")\n",
    "df.head()"
   ]
  },
  {
   "cell_type": "markdown",
   "metadata": {},
   "source": [
    "- Instrument = 1 if the mother was offered a vitamin A shot for her baby\n",
    "- Treatment = 1 if the baby recieved a vitamin A shot\n",
    "- Outcome = 1 if baby died"
   ]
  },
  {
   "cell_type": "markdown",
   "metadata": {},
   "source": [
    "#### 1. The first data scientist advised that one should compare the survival rate of babies whose mothers were offered Vitamin A shots to the survival rate of babies whose mothers were not offered a Vitamin A shot.\n",
    "\n",
    "a. What percent of babies whose mothers were offered Vitamin A shots for their babies died? [3 pts]"
   ]
  },
  {
   "cell_type": "code",
   "execution_count": 48,
   "metadata": {},
   "outputs": [
    {
     "name": "stdout",
     "output_type": "stream",
     "text": [
      "Percentage of babies whose mothers were offered a Vitamin A shot died:  0.003803538944931371\n"
     ]
    }
   ],
   "source": [
    "print(\"Percentage of babies whose mothers were offered a Vitamin A shot died: \", np.mean(df[df['instrument'] == 1][\"outcome\"])) "
   ]
  },
  {
   "cell_type": "markdown",
   "metadata": {},
   "source": [
    "b. What percent of babies whose mothers were not offered Vitamin A shots for their babies died? [3 pts]\n"
   ]
  },
  {
   "cell_type": "code",
   "execution_count": 50,
   "metadata": {},
   "outputs": [
    {
     "name": "stdout",
     "output_type": "stream",
     "text": [
      "Percentage of babies whose mothers were not offered a Vitamin A shot died:  0.00638591646530894\n"
     ]
    }
   ],
   "source": [
    "print(\"Percentage of babies whose mothers were not offered a Vitamin A shot died: \", np.mean(df[df['instrument'] == 0][\"outcome\"])) "
   ]
  },
  {
   "cell_type": "markdown",
   "metadata": {},
   "source": [
    "c. What is the difference in mortality, and under what assumptions is the difference between these two percentages a valid estimate of the causal impact of receiving vitamin A shots on survival? [4 pts]"
   ]
  },
  {
   "cell_type": "code",
   "execution_count": 19,
   "metadata": {},
   "outputs": [
    {
     "name": "stdout",
     "output_type": "stream",
     "text": [
      "Difference in motality rate  -0.002582377520377569\n"
     ]
    }
   ],
   "source": [
    "print(\"Difference in motality rate \", np.mean(df[df['instrument'] == 1][\"outcome\"]) - np.mean(df[df['instrument'] == 0][\"outcome\"])) "
   ]
  },
  {
   "cell_type": "markdown",
   "metadata": {},
   "source": [
    "Under the assumptions that 1) mothers were randomly assigned to treatment and control groups and 2) the mothers who were offered the Vitamin A shots actually let the babies receive the shots can we estimate the causal impact of receiving Vitamin A shots on survival rate of babies using the difference between these two percentages."
   ]
  },
  {
   "cell_type": "markdown",
   "metadata": {},
   "source": [
    "#### 2. The second data scientist advised that one should compare the survival rates of babies who received Vitamin A shots to babies who did not receive Vitamin A shots.\n",
    "\n",
    "a. What percent of babies who received Vitamin A shots died? [3 pts]\n"
   ]
  },
  {
   "cell_type": "code",
   "execution_count": 32,
   "metadata": {},
   "outputs": [
    {
     "name": "stdout",
     "output_type": "stream",
     "text": [
      "Percentage of babies that received a Vitamin A shot died:  0.00124031007751938\n"
     ]
    }
   ],
   "source": [
    "print(\"Percentage of babies that received a Vitamin A shot died: \", np.mean(df[df['treatment'] == 1][\"outcome\"])) "
   ]
  },
  {
   "cell_type": "markdown",
   "metadata": {},
   "source": [
    "b. What percent of babies who did not receive Vitamin A shots died? [3 pts]"
   ]
  },
  {
   "cell_type": "code",
   "execution_count": 31,
   "metadata": {},
   "outputs": [
    {
     "name": "stdout",
     "output_type": "stream",
     "text": [
      "Percentage of babies that did not receive a Vitamin A shot died:  0.007710430499036196\n"
     ]
    }
   ],
   "source": [
    "print(\"Percentage of babies that did not receive a Vitamin A shot died: \", np.mean(df[df['treatment'] == 0][\"outcome\"])) "
   ]
  },
  {
   "cell_type": "markdown",
   "metadata": {},
   "source": [
    "c. What is the difference in mortality, and under what assumptions is the difference between these two percentages a valid estimate of the causal impact of receiving vitamin A shots on survival? [4 pts]\n"
   ]
  },
  {
   "cell_type": "code",
   "execution_count": 28,
   "metadata": {},
   "outputs": [
    {
     "name": "stdout",
     "output_type": "stream",
     "text": [
      "Difference in motality rate  -0.006470120421516816\n"
     ]
    }
   ],
   "source": [
    "print(\"Difference in motality rate \", np.mean(df[df['treatment'] == 1][\"outcome\"]) - np.mean(df[df['treatment'] == 0][\"outcome\"])) "
   ]
  },
  {
   "cell_type": "markdown",
   "metadata": {},
   "source": [
    "Under the assumptions that 1) the babies are randomly assigned to treatment and control groups and 2) all babies who were in the treatment group received the treatment can we estimate the causal impact of receiving Vitamin A shots on survival rate of babies using the difference between these two percentages."
   ]
  },
  {
   "cell_type": "markdown",
   "metadata": {},
   "source": [
    "#### 3. The third data scientist advised that one should consider only babies whose mothers were offered Vitamin A shots, and compare babies who received shots to babies who did not receive shots.\n",
    "\n",
    "a. What percent of babies who received Vitamin A shots died? [3 pts]"
   ]
  },
  {
   "cell_type": "code",
   "execution_count": 30,
   "metadata": {},
   "outputs": [
    {
     "name": "stdout",
     "output_type": "stream",
     "text": [
      "Percentage of babies that received a Vitamin A shot and died:  0.00124031007751938\n"
     ]
    }
   ],
   "source": [
    "print(\"Percentage of babies who receievd Vitamin A died: \", np.mean(df[(df['treatment'] == 1) & (df['instrument'] == 1)][\"outcome\"])) "
   ]
  },
  {
   "cell_type": "markdown",
   "metadata": {},
   "source": [
    "b. What percent of babies whose mothers were offered Vitamin A shots, but the mothers did not accept them, died? [3 pts]\n"
   ]
  },
  {
   "cell_type": "code",
   "execution_count": 36,
   "metadata": {},
   "outputs": [
    {
     "name": "stdout",
     "output_type": "stream",
     "text": [
      "Percentage of babies who did not receieve a Vitamin A died:  0.014055394791236048\n"
     ]
    }
   ],
   "source": [
    "print(\"Percentage of babies who did not receieve a Vitamin A died: \", np.mean(df[(df['treatment'] == 0) & (df['instrument'] == 1)][\"outcome\"])) "
   ]
  },
  {
   "cell_type": "markdown",
   "metadata": {},
   "source": [
    "c. What is the difference in mortality, and under what assumptions is the difference between these two percentages a valid estimate of the causal impact of receiving vitamin A shots on survival? [4 pts]"
   ]
  },
  {
   "cell_type": "code",
   "execution_count": 38,
   "metadata": {},
   "outputs": [
    {
     "name": "stdout",
     "output_type": "stream",
     "text": [
      "Difference in motality rate  -0.012815084713716668\n"
     ]
    }
   ],
   "source": [
    "print(\"Difference in motality rate \", np.mean(df[(df['treatment'] == 1) & (df['instrument'] == 1)][\"outcome\"])\n",
    "      - np.mean(df[(df['treatment'] == 0) & (df['instrument'] == 1)][\"outcome\"]))"
   ]
  },
  {
   "cell_type": "markdown",
   "metadata": {},
   "source": [
    "Under the assumptions that 1) the babies are randomly assigned to treatment and control groups and 2) self-selection bias is absent (mothers had no control over if babies would receive the Vitamin A shots) can we estimate the causal impact of receiving Vitamin A shots on survival rate of babies using the difference between these two percentages."
   ]
  },
  {
   "cell_type": "markdown",
   "metadata": {},
   "source": [
    "#### 4. The fourth data scientist suggested the following Wald estimator for the effect of Vitamin A shots on mortality\n",
    "a. Compute the above Wald estimate for the given dataset. [2 pts]"
   ]
  },
  {
   "cell_type": "code",
   "execution_count": 55,
   "metadata": {},
   "outputs": [
    {
     "name": "stdout",
     "output_type": "stream",
     "text": [
      "Wald estimate is  -0.0032280386285732632\n"
     ]
    }
   ],
   "source": [
    "p1 = np.mean(df[df['instrument'] == 1][\"outcome\"])\n",
    "p2 =  np.mean(df[df['instrument'] == 0][\"outcome\"])\n",
    "p3 =  len(df[(df['treatment'] == 1) & (df['instrument'] == 1)])/len(df[(df['instrument'] == 1)])\n",
    "print(\"Wald estimate is \",(p1-p2)/p3)"
   ]
  },
  {
   "cell_type": "markdown",
   "metadata": {},
   "source": [
    "b. Under what assumptions is this estimate a valid estimate of the causal impact of vitamin A shots on survival? [4 pts]\n"
   ]
  },
  {
   "cell_type": "markdown",
   "metadata": {},
   "source": [
    "Under the assumption that mortality rate is correlated with treatment but uncorrelated with instrumental variable: whether the mother was offered the Vitamin A shot is this estimate a valid estimate of the causal impact of Vitamin A shots on survival."
   ]
  },
  {
   "cell_type": "markdown",
   "metadata": {},
   "source": [
    "c. What is the standard error for the intent-to-treat estimate recommended by the first data scientist? What is the standard error for the Wald estimate recommended by the fourth data scientist? [5 pts]\n",
    "\n",
    "i. Which one is larger and why? [4 pts]\n"
   ]
  },
  {
   "cell_type": "code",
   "execution_count": 11,
   "metadata": {},
   "outputs": [
    {
     "data": {
      "text/plain": [
       "const         0.000660\n",
       "instrument    0.000923\n",
       "dtype: float64"
      ]
     },
     "execution_count": 11,
     "metadata": {},
     "output_type": "execute_result"
    }
   ],
   "source": [
    "import statsmodels.api as sm\n",
    "X = df['instrument']\n",
    "X= sm.add_constant(X)\n",
    "y = df['outcome']\n",
    "lm_1st = sm.OLS(y, X).fit()\n",
    "lm_1st.bse"
   ]
  },
  {
   "cell_type": "markdown",
   "metadata": {},
   "source": [
    "The standard error of intent-to-treat estimate is 0.000923 for the approach recommended by the first data scientist."
   ]
  },
  {
   "cell_type": "code",
   "execution_count": 12,
   "metadata": {},
   "outputs": [
    {
     "data": {
      "text/plain": [
       "const    0.000660\n",
       "0        0.001154\n",
       "dtype: float64"
      ]
     },
     "execution_count": 12,
     "metadata": {},
     "output_type": "execute_result"
    }
   ],
   "source": [
    "y_1 =  df['treatment'] \n",
    "lm_1st_stage = sm.OLS(y_1, X).fit()\n",
    "X_hat = lm_1st_stage.predict(X) \n",
    "X_hat= sm.add_constant(X_hat)\n",
    "lm_2nd_stage = sm.OLS(y, X_hat).fit()\n",
    "lm_2nd_stage.bse"
   ]
  },
  {
   "cell_type": "markdown",
   "metadata": {},
   "source": [
    "The standard error of Wald estimate is 0.001154 for the approach recommended by the fourth data scientist. This standard error is larger than previous one because the formula of standard error of IV is $\\frac{\\sigma^2}{SST\\times R_{x,z}^2}$ whereas the one of OLS estimate is just $\\frac{\\sigma^2}{SST}$. As $R^2$ is between 0 and 1, the standard error of IV is inflated."
   ]
  },
  {
   "cell_type": "markdown",
   "metadata": {},
   "source": [
    "ii. Why might these standard errors be biased? What information would\n",
    "you ideally want to have to address this bias? [5 pts]"
   ]
  },
  {
   "cell_type": "markdown",
   "metadata": {},
   "source": [
    "These standard errors might be biased because the instrumental variable in this case is likely to be correlated with the response variable. Intent-to-treat and the survival rate seem to come hand in hand. To solve this issue, we need to add other factors to the regression to make sure that instrumental variable is independent of the error term of OLS. "
   ]
  },
  {
   "cell_type": "markdown",
   "metadata": {},
   "source": [
    "# Exercise 3"
   ]
  },
  {
   "cell_type": "markdown",
   "metadata": {},
   "source": [
    "Read the paper “The Design Versus the Analysis of Observational Studies for Causal Effects:\n",
    "Parallels With the Design of Randomized Trials” by Donald Rubin.\n",
    "Write a short reflection paragraph up to half a page with your comments. You can use bullet\n",
    "points to write your comments. Comments can be 1) points that resonated most with you, 2)\n",
    "points of disagreement, 3) a comparison to what you’ve learned in previous classes, or 4)\n",
    "anything else you want to comment on as long as they demonstrate that you read and thought\n",
    "about the paper. [10 pts]"
   ]
  },
  {
   "cell_type": "markdown",
   "metadata": {},
   "source": [
    "- The approach introduced in this research paper reminds me of A/B testing with matching technique that I have learned in the previous class. \n",
    "A/B testing with matching is a randomized experiment where we match similar subjects using propensity score and assign them to control and treatment groups randomly. The propensity score measures how similar the two subjects are in terms of certain observed characteristics of the subjects. The application in this paper also uses propensity score to create treatment and control subgroups to approximate randomized experiments. The paper emphasizes that matching and group assignment should be conducted without access to the outcome data to ensure objectivity of the result."
   ]
  },
  {
   "cell_type": "markdown",
   "metadata": {},
   "source": [
    "- What resonated most with me is author's strong opposition to manipulating the result by redesigning the experiment after acquiring the outcome data. "
   ]
  },
  {
   "cell_type": "markdown",
   "metadata": {},
   "source": [
    "- The design of what variables should be included in the propensity model takes careful thoughts. It requires deep industry knowledge and compliance with the law."
   ]
  }
 ],
 "metadata": {
  "kernelspec": {
   "display_name": "Python 3",
   "language": "python",
   "name": "python3"
  },
  "language_info": {
   "codemirror_mode": {
    "name": "ipython",
    "version": 3
   },
   "file_extension": ".py",
   "mimetype": "text/x-python",
   "name": "python",
   "nbconvert_exporter": "python",
   "pygments_lexer": "ipython3",
   "version": "3.8.3"
  }
 },
 "nbformat": 4,
 "nbformat_minor": 4
}
